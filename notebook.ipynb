{
 "cells": [
  {
   "cell_type": "markdown",
   "id": "84b95709-18d9-4b0b-9fcb-d166518a10ae",
   "metadata": {},
   "source": [
    "# PinaColADA Phase 2 Notebook "
   ]
  },
  {
   "cell_type": "markdown",
   "id": "b99d5b4c-35d8-453d-8593-3c6d3ea023f5",
   "metadata": {},
   "source": [
    "The Youniverse dataset consists of 3 main sub-datasets : the channel dataset, the video dataset and the timeseries data."
   ]
  },
  {
   "cell_type": "code",
   "execution_count": 75,
   "id": "7a6ee836-0f4a-4fe0-a68e-3425d640a5e8",
   "metadata": {},
   "outputs": [],
   "source": [
    "import pandas as pd\n",
    "import matplotlib.pyplot as plt\n",
    "from scipy.optimize import curve_fit"
   ]
  },
  {
   "cell_type": "markdown",
   "id": "241f3169-9584-4f5c-b24c-d56dfe6061ae",
   "metadata": {},
   "source": [
    "### Importing data "
   ]
  },
  {
   "cell_type": "markdown",
   "id": "f82994f9-fcec-4cd3-ac1c-a383f3101e26",
   "metadata": {},
   "source": [
    "For this phase we only use the channels dataset and the timeseries dataset"
   ]
  },
  {
   "cell_type": "code",
   "execution_count": 76,
   "id": "565ed98e-5b27-46c1-ac0d-452100998fb7",
   "metadata": {},
   "outputs": [
    {
     "data": {
      "text/html": [
       "<div>\n",
       "<style scoped>\n",
       "    .dataframe tbody tr th:only-of-type {\n",
       "        vertical-align: middle;\n",
       "    }\n",
       "\n",
       "    .dataframe tbody tr th {\n",
       "        vertical-align: top;\n",
       "    }\n",
       "\n",
       "    .dataframe thead th {\n",
       "        text-align: right;\n",
       "    }\n",
       "</style>\n",
       "<table border=\"1\" class=\"dataframe\">\n",
       "  <thead>\n",
       "    <tr style=\"text-align: right;\">\n",
       "      <th></th>\n",
       "      <th>category_cc</th>\n",
       "      <th>join_date</th>\n",
       "      <th>channel</th>\n",
       "      <th>name_cc</th>\n",
       "      <th>subscribers_cc</th>\n",
       "      <th>videos_cc</th>\n",
       "      <th>subscriber_rank_sb</th>\n",
       "      <th>weights</th>\n",
       "    </tr>\n",
       "  </thead>\n",
       "  <tbody>\n",
       "    <tr>\n",
       "      <th>0</th>\n",
       "      <td>Gaming</td>\n",
       "      <td>2010-04-29</td>\n",
       "      <td>UC-lHJZR3Gqxm24_Vd_AJ5Yw</td>\n",
       "      <td>PewDiePie</td>\n",
       "      <td>101000000</td>\n",
       "      <td>3956</td>\n",
       "      <td>3.0</td>\n",
       "      <td>2.087</td>\n",
       "    </tr>\n",
       "    <tr>\n",
       "      <th>1</th>\n",
       "      <td>Education</td>\n",
       "      <td>2006-09-01</td>\n",
       "      <td>UCbCmjCuTUZos6Inko4u57UQ</td>\n",
       "      <td>Cocomelon - Nursery ...</td>\n",
       "      <td>60100000</td>\n",
       "      <td>458</td>\n",
       "      <td>7.0</td>\n",
       "      <td>2.087</td>\n",
       "    </tr>\n",
       "    <tr>\n",
       "      <th>2</th>\n",
       "      <td>Entertainment</td>\n",
       "      <td>2006-09-20</td>\n",
       "      <td>UCpEhnqL0y41EpW2TvWAHD7Q</td>\n",
       "      <td>SET India</td>\n",
       "      <td>56018869</td>\n",
       "      <td>32661</td>\n",
       "      <td>8.0</td>\n",
       "      <td>2.087</td>\n",
       "    </tr>\n",
       "    <tr>\n",
       "      <th>3</th>\n",
       "      <td>Howto &amp; Style</td>\n",
       "      <td>2016-11-15</td>\n",
       "      <td>UC295-Dw_tDNtZXFeAPAW6Aw</td>\n",
       "      <td>5-Minute Crafts</td>\n",
       "      <td>60600000</td>\n",
       "      <td>3591</td>\n",
       "      <td>9.0</td>\n",
       "      <td>2.087</td>\n",
       "    </tr>\n",
       "    <tr>\n",
       "      <th>4</th>\n",
       "      <td>Sports</td>\n",
       "      <td>2007-05-11</td>\n",
       "      <td>UCJ5v_MCY6GNUBTO8-D3XoAg</td>\n",
       "      <td>WWE</td>\n",
       "      <td>48400000</td>\n",
       "      <td>43421</td>\n",
       "      <td>11.0</td>\n",
       "      <td>2.087</td>\n",
       "    </tr>\n",
       "  </tbody>\n",
       "</table>\n",
       "</div>"
      ],
      "text/plain": [
       "     category_cc  join_date                   channel  \\\n",
       "0         Gaming 2010-04-29  UC-lHJZR3Gqxm24_Vd_AJ5Yw   \n",
       "1      Education 2006-09-01  UCbCmjCuTUZos6Inko4u57UQ   \n",
       "2  Entertainment 2006-09-20  UCpEhnqL0y41EpW2TvWAHD7Q   \n",
       "3  Howto & Style 2016-11-15  UC295-Dw_tDNtZXFeAPAW6Aw   \n",
       "4         Sports 2007-05-11  UCJ5v_MCY6GNUBTO8-D3XoAg   \n",
       "\n",
       "                   name_cc  subscribers_cc  videos_cc  subscriber_rank_sb  \\\n",
       "0                PewDiePie       101000000       3956                 3.0   \n",
       "1  Cocomelon - Nursery ...        60100000        458                 7.0   \n",
       "2                SET India        56018869      32661                 8.0   \n",
       "3          5-Minute Crafts        60600000       3591                 9.0   \n",
       "4                      WWE        48400000      43421                11.0   \n",
       "\n",
       "   weights  \n",
       "0    2.087  \n",
       "1    2.087  \n",
       "2    2.087  \n",
       "3    2.087  \n",
       "4    2.087  "
      ]
     },
     "execution_count": 76,
     "metadata": {},
     "output_type": "execute_result"
    }
   ],
   "source": [
    "channels = pd.read_csv('data/df_channels_en.tsv.gz', compression='gzip', sep = '\\t')\n",
    "channels['join_date']= pd.to_datetime(channels['join_date'])\n",
    "channels.head()"
   ]
  },
  {
   "cell_type": "code",
   "execution_count": 77,
   "id": "75af3d21-e5a1-4483-91d8-ebffc95e025d",
   "metadata": {},
   "outputs": [
    {
     "data": {
      "text/html": [
       "<div>\n",
       "<style scoped>\n",
       "    .dataframe tbody tr th:only-of-type {\n",
       "        vertical-align: middle;\n",
       "    }\n",
       "\n",
       "    .dataframe tbody tr th {\n",
       "        vertical-align: top;\n",
       "    }\n",
       "\n",
       "    .dataframe thead th {\n",
       "        text-align: right;\n",
       "    }\n",
       "</style>\n",
       "<table border=\"1\" class=\"dataframe\">\n",
       "  <thead>\n",
       "    <tr style=\"text-align: right;\">\n",
       "      <th></th>\n",
       "      <th>channel</th>\n",
       "      <th>category</th>\n",
       "      <th>datetime</th>\n",
       "      <th>views</th>\n",
       "      <th>delta_views</th>\n",
       "      <th>subs</th>\n",
       "      <th>delta_subs</th>\n",
       "      <th>videos</th>\n",
       "      <th>delta_videos</th>\n",
       "      <th>activity</th>\n",
       "    </tr>\n",
       "  </thead>\n",
       "  <tbody>\n",
       "    <tr>\n",
       "      <th>0</th>\n",
       "      <td>UCBJuEqXfXTdcPSbGO9qqn1g</td>\n",
       "      <td>Film and Animation</td>\n",
       "      <td>2017-07-03</td>\n",
       "      <td>2.024946e+05</td>\n",
       "      <td>0.000</td>\n",
       "      <td>650.222</td>\n",
       "      <td>0.000</td>\n",
       "      <td>5</td>\n",
       "      <td>0</td>\n",
       "      <td>3</td>\n",
       "    </tr>\n",
       "    <tr>\n",
       "      <th>1</th>\n",
       "      <td>UCBJuEqXfXTdcPSbGO9qqn1g</td>\n",
       "      <td>Film and Animation</td>\n",
       "      <td>2017-07-10</td>\n",
       "      <td>3.940857e+05</td>\n",
       "      <td>191591.111</td>\n",
       "      <td>1046.000</td>\n",
       "      <td>395.778</td>\n",
       "      <td>6</td>\n",
       "      <td>1</td>\n",
       "      <td>1</td>\n",
       "    </tr>\n",
       "    <tr>\n",
       "      <th>2</th>\n",
       "      <td>UCBJuEqXfXTdcPSbGO9qqn1g</td>\n",
       "      <td>Film and Animation</td>\n",
       "      <td>2017-07-17</td>\n",
       "      <td>8.353938e+05</td>\n",
       "      <td>441308.083</td>\n",
       "      <td>1501.500</td>\n",
       "      <td>455.500</td>\n",
       "      <td>6</td>\n",
       "      <td>0</td>\n",
       "      <td>1</td>\n",
       "    </tr>\n",
       "    <tr>\n",
       "      <th>3</th>\n",
       "      <td>UCBJuEqXfXTdcPSbGO9qqn1g</td>\n",
       "      <td>Film and Animation</td>\n",
       "      <td>2017-07-24</td>\n",
       "      <td>1.104577e+06</td>\n",
       "      <td>269183.250</td>\n",
       "      <td>1750.000</td>\n",
       "      <td>248.500</td>\n",
       "      <td>6</td>\n",
       "      <td>0</td>\n",
       "      <td>0</td>\n",
       "    </tr>\n",
       "    <tr>\n",
       "      <th>4</th>\n",
       "      <td>UCBJuEqXfXTdcPSbGO9qqn1g</td>\n",
       "      <td>Film and Animation</td>\n",
       "      <td>2017-07-31</td>\n",
       "      <td>1.284406e+06</td>\n",
       "      <td>179828.600</td>\n",
       "      <td>2008.300</td>\n",
       "      <td>258.300</td>\n",
       "      <td>6</td>\n",
       "      <td>0</td>\n",
       "      <td>0</td>\n",
       "    </tr>\n",
       "  </tbody>\n",
       "</table>\n",
       "</div>"
      ],
      "text/plain": [
       "                    channel            category   datetime         views  \\\n",
       "0  UCBJuEqXfXTdcPSbGO9qqn1g  Film and Animation 2017-07-03  2.024946e+05   \n",
       "1  UCBJuEqXfXTdcPSbGO9qqn1g  Film and Animation 2017-07-10  3.940857e+05   \n",
       "2  UCBJuEqXfXTdcPSbGO9qqn1g  Film and Animation 2017-07-17  8.353938e+05   \n",
       "3  UCBJuEqXfXTdcPSbGO9qqn1g  Film and Animation 2017-07-24  1.104577e+06   \n",
       "4  UCBJuEqXfXTdcPSbGO9qqn1g  Film and Animation 2017-07-31  1.284406e+06   \n",
       "\n",
       "   delta_views      subs  delta_subs  videos  delta_videos  activity  \n",
       "0        0.000   650.222       0.000       5             0         3  \n",
       "1   191591.111  1046.000     395.778       6             1         1  \n",
       "2   441308.083  1501.500     455.500       6             0         1  \n",
       "3   269183.250  1750.000     248.500       6             0         0  \n",
       "4   179828.600  2008.300     258.300       6             0         0  "
      ]
     },
     "execution_count": 77,
     "metadata": {},
     "output_type": "execute_result"
    }
   ],
   "source": [
    "timeseries = pd.read_csv('data/df_timeseries_en.tsv.gz', compression='gzip', sep = '\\t')\n",
    "timeseries['datetime']= pd.to_datetime(timeseries['datetime'])\n",
    "timeseries['delta_views'] = timeseries['delta_views'].round(decimals = 3)\n",
    "timeseries['subs'] = timeseries['subs'].round(decimals = 3)\n",
    "timeseries['delta_subs'] = timeseries['delta_subs'].round(decimals = 3)\n",
    "timeseries.head()"
   ]
  },
  {
   "cell_type": "markdown",
   "id": "ce7da7a3-6463-4677-942e-8d86e94b636b",
   "metadata": {},
   "source": [
    "### Channel data exploration"
   ]
  },
  {
   "cell_type": "code",
   "execution_count": 78,
   "id": "79f82801-4e94-4053-85ab-dfca9dee5c5e",
   "metadata": {},
   "outputs": [
    {
     "data": {
      "text/html": [
       "<div>\n",
       "<style scoped>\n",
       "    .dataframe tbody tr th:only-of-type {\n",
       "        vertical-align: middle;\n",
       "    }\n",
       "\n",
       "    .dataframe tbody tr th {\n",
       "        vertical-align: top;\n",
       "    }\n",
       "\n",
       "    .dataframe thead th {\n",
       "        text-align: right;\n",
       "    }\n",
       "</style>\n",
       "<table border=\"1\" class=\"dataframe\">\n",
       "  <thead>\n",
       "    <tr style=\"text-align: right;\">\n",
       "      <th></th>\n",
       "      <th>subscribers_cc</th>\n",
       "      <th>videos_cc</th>\n",
       "      <th>subscriber_rank_sb</th>\n",
       "      <th>weights</th>\n",
       "    </tr>\n",
       "  </thead>\n",
       "  <tbody>\n",
       "    <tr>\n",
       "      <th>count</th>\n",
       "      <td>1.364700e+05</td>\n",
       "      <td>136470.000000</td>\n",
       "      <td>1.364700e+05</td>\n",
       "      <td>136470.000000</td>\n",
       "    </tr>\n",
       "    <tr>\n",
       "      <th>mean</th>\n",
       "      <td>2.466022e+05</td>\n",
       "      <td>699.784231</td>\n",
       "      <td>3.570087e+05</td>\n",
       "      <td>7.349363</td>\n",
       "    </tr>\n",
       "    <tr>\n",
       "      <th>std</th>\n",
       "      <td>1.150096e+06</td>\n",
       "      <td>4524.980928</td>\n",
       "      <td>2.711139e+05</td>\n",
       "      <td>5.277328</td>\n",
       "    </tr>\n",
       "    <tr>\n",
       "      <th>min</th>\n",
       "      <td>1.000000e+04</td>\n",
       "      <td>10.000000</td>\n",
       "      <td>3.000000e+00</td>\n",
       "      <td>2.086500</td>\n",
       "    </tr>\n",
       "    <tr>\n",
       "      <th>25%</th>\n",
       "      <td>1.888575e+04</td>\n",
       "      <td>70.000000</td>\n",
       "      <td>1.161305e+05</td>\n",
       "      <td>4.231500</td>\n",
       "    </tr>\n",
       "    <tr>\n",
       "      <th>50%</th>\n",
       "      <td>4.240000e+04</td>\n",
       "      <td>175.000000</td>\n",
       "      <td>3.015670e+05</td>\n",
       "      <td>6.444000</td>\n",
       "    </tr>\n",
       "    <tr>\n",
       "      <th>75%</th>\n",
       "      <td>1.370000e+05</td>\n",
       "      <td>443.000000</td>\n",
       "      <td>5.704942e+05</td>\n",
       "      <td>9.243500</td>\n",
       "    </tr>\n",
       "    <tr>\n",
       "      <th>max</th>\n",
       "      <td>1.121395e+08</td>\n",
       "      <td>461923.000000</td>\n",
       "      <td>1.030844e+06</td>\n",
       "      <td>53.150500</td>\n",
       "    </tr>\n",
       "  </tbody>\n",
       "</table>\n",
       "</div>"
      ],
      "text/plain": [
       "       subscribers_cc      videos_cc  subscriber_rank_sb        weights\n",
       "count    1.364700e+05  136470.000000        1.364700e+05  136470.000000\n",
       "mean     2.466022e+05     699.784231        3.570087e+05       7.349363\n",
       "std      1.150096e+06    4524.980928        2.711139e+05       5.277328\n",
       "min      1.000000e+04      10.000000        3.000000e+00       2.086500\n",
       "25%      1.888575e+04      70.000000        1.161305e+05       4.231500\n",
       "50%      4.240000e+04     175.000000        3.015670e+05       6.444000\n",
       "75%      1.370000e+05     443.000000        5.704942e+05       9.243500\n",
       "max      1.121395e+08  461923.000000        1.030844e+06      53.150500"
      ]
     },
     "execution_count": 78,
     "metadata": {},
     "output_type": "execute_result"
    }
   ],
   "source": [
    "channels.describe()"
   ]
  },
  {
   "cell_type": "code",
   "execution_count": 81,
   "id": "8c147460-27a7-4790-9de3-798e1858f976",
   "metadata": {},
   "outputs": [
    {
     "data": {
      "image/png": "[encoded data removed]",
      "text/plain": [
       "<Figure size 720x720 with 1 Axes>"
      ]
     },
     "metadata": {
      "needs_background": "light"
     },
     "output_type": "display_data"
    }
   ],
   "source": [
    "# Group the channels by categories\n",
    "categories = channels.groupby(['category_cc']).size().to_frame()\n",
    "categories.rename(columns={0:'count'}, inplace=True)\n",
    "\n",
    "# Sort and plot the resulting data\n",
    "categories.sort_values(by='count', ascending=False, inplace=True)\n",
    "plt.figure(figsize=(10,10))\n",
    "plt.grid(linestyle='--')\n",
    "plt.bar(categories.index, categories['count'])\n",
    "plt.xticks(rotation = 90)\n",
    "plt.show()\n"
   ]
  },
  {
   "cell_type": "markdown",
   "id": "9ae73b80-9621-4590-937b-78ff2987e0f0",
   "metadata": {},
   "source": [
    "We can see that there is a minority of categories that concentrate a large part of the channels: this can be explained by the fact that these are categories with much broader subjects than others (such as for example Entertainment compared to Pets & Animals) but also by the fact that some can be used by actors fondamentally different than typical Youtube content creators (like Music with artist channels).\n"
   ]
  },
  {
   "cell_type": "code",
   "execution_count": null,
   "id": "4c86aab5-fa21-4b8e-b942-71bb33473b75",
   "metadata": {},
   "outputs": [],
   "source": [
    "# Power law definition : required for fitting the data\n",
    "def power_law(x, a, k):\n",
    "    return a * (x ** k)"
   ]
  },
  {
   "cell_type": "code",
   "execution_count": null,
   "id": "11f9ca5b-555f-4e4d-a644-0d309ced53c0",
   "metadata": {},
   "outputs": [],
   "source": [
    "# For each category to plot :\n",
    "power_law_cat = ['subscribers_cc', 'videos_cc']\n",
    "fig, ax = plt.subplots(1, 2, figsize=(12, 8))\n",
    "\n",
    "for idx, cat in enumerate(power_law_cat):\n",
    "    \n",
    "    # Group the data into bins\n",
    "    array_hist = ax[idx].hist(channels[cat], bins=5000,log=True,cumulative=-1,histtype='step')\n",
    "    ax[idx].clear()\n",
    "    \n",
    "    # Fit the data to find a suitable power law\n",
    "    popt, pcov = curve_fit(power_law,array_hist[1][1:],  array_hist[0])\n",
    "    \n",
    "    # Plot both the data and the fitted function\n",
    "    ax[idx].loglog(array_hist[1][1:],array_hist[0], label='data')\n",
    "    ax[idx].loglog(array_hist[1][1:], power_law(array_hist[1][1:], *popt), 'r-', label='power law fit (k=%.3f)' % tuple(popt)[1])\n",
    "    ax[idx].set_title(f'{cat} distribution ')\n",
    "    ax[idx].set_ylabel('# of channels (in log scale)')\n",
    "    ax[idx].set_xlabel(f'{cat} (in log scale)')\n",
    "    ax[idx].legend()\n",
    "\n",
    "plt.show()\n",
    "                                                                              "
   ]
  },
  {
   "cell_type": "markdown",
   "id": "7a225019-5cfd-4c0a-b5df-76e4db0844c5",
   "metadata": {},
   "source": [
    "The subscribers count follows a power law : the vast majority of Youtube channels have a low number of subscribers while only a few channel concentrate the major part of subscriptions.\n",
    "We can also make this statement about the number of published videos per channels"
   ]
  },
  {
   "cell_type": "code",
   "execution_count": null,
   "id": "640e7eba-ae7a-49b1-b76e-dadbe07cb6b7",
   "metadata": {},
   "outputs": [],
   "source": [
    "# Count the value of join_date \n",
    "creation_dt_df = channels['join_date'].value_counts().to_frame()\n",
    "\n",
    "# Add missing values (if there was no channel created during a certain month we have to add 0-entry to our dataframe)\n",
    "idx = pd.date_range(creation_dt_df.index.min(), creation_dt_df.index.max())\n",
    "creation_dt_df.index = pd.DatetimeIndex(creation_dt_df.index)\n",
    "creation_dt_df = creation_dt_df.reindex(idx, fill_value=0)\n",
    "\n",
    "# Group the data by year and month to get an approrpiate scale\n",
    "creation_dt_df = creation_dt_df.groupby([(creation_dt_df.index.year), (creation_dt_df.index.month)]).sum()\n",
    "\n",
    "# Plot the final dataset \n",
    "creation_dt_df.plot(kind='line',figsize=(10,5), grid='--', legend=False, rot=45, marker=\".\")\n",
    "plt.title('Number of created channels over time (every month)')\n",
    "plt.ylabel('# of channels')\n",
    "plt.xlabel('Time (per month)')\n",
    "plt.show()"
   ]
  },
  {
   "cell_type": "markdown",
   "id": "81521aed-9527-46bc-b845-b1ab9a4bcf79",
   "metadata": {},
   "source": [
    "We can see that there is a considerable attraction for Youtube from its creation in 2005 and in the 2010s followed by a significant drop from 2017 where less and less channels are created."
   ]
  },
  {
   "cell_type": "code",
   "execution_count": null,
   "id": "c458f0e2-44d1-462d-9fcf-e092fccccf8f",
   "metadata": {},
   "outputs": [],
   "source": []
  },
  {
   "cell_type": "code",
   "execution_count": null,
   "id": "03b3c0c8-cd09-4cf4-9e9a-ecfd9a3e115d",
   "metadata": {},
   "outputs": [],
   "source": []
  }
 ],
 "metadata": {
  "kernelspec": {
   "display_name": "Python 3 (ipykernel)",
   "language": "python",
   "name": "python3"
  },
  "language_info": {
   "codemirror_mode": {
    "name": "ipython",
    "version": 3
   },
   "file_extension": ".py",
   "mimetype": "text/x-python",
   "name": "python",
   "nbconvert_exporter": "python",
   "pygments_lexer": "ipython3",
   "version": "3.9.12"
  }
 },
 "nbformat": 4,
 "nbformat_minor": 5
}
